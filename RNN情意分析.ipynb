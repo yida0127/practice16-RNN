{
 "cells": [
  {
   "cell_type": "markdown",
   "metadata": {},
   "source": [
    "# 使用RNN分析IMDB電影評論的情意分析"
   ]
  },
  {
   "cell_type": "code",
   "execution_count": 1,
   "metadata": {},
   "outputs": [
    {
     "name": "stdout",
     "output_type": "stream",
     "text": [
      "env: KERAS_BACKEND=tensorflow\n"
     ]
    }
   ],
   "source": [
    "# 架構KERAS環境\n",
    "%env KERAS_BACKEND=tensorflow"
   ]
  },
  {
   "cell_type": "code",
   "execution_count": 2,
   "metadata": {},
   "outputs": [],
   "source": [
    "# 讀入IMDB電影數據庫\n",
    "from keras.datasets import imdb\n",
    "\n",
    "# 只留下前1萬筆常見資料\n",
    "(x_train, y_train), (x_test, y_test) = imdb.load_data(num_words=10000)"
   ]
  },
  {
   "cell_type": "code",
   "execution_count": 4,
   "metadata": {},
   "outputs": [
    {
     "name": "stdout",
     "output_type": "stream",
     "text": [
      "218,189,141,550,147,43,123,562,233,130,"
     ]
    }
   ],
   "source": [
    "# 檢查輸入資料長度\n",
    "for i in range(10):\n",
    "    print(len(x_train[i]), end=',')"
   ]
  },
  {
   "cell_type": "code",
   "execution_count": 5,
   "metadata": {},
   "outputs": [
    {
     "name": "stdout",
     "output_type": "stream",
     "text": [
      "1,0,0,1,0,0,1,0,1,0,"
     ]
    }
   ],
   "source": [
    "# 檢查輸出資料\n",
    "for i in range(10):\n",
    "    print(y_train[i], end=',')"
   ]
  },
  {
   "cell_type": "code",
   "execution_count": 8,
   "metadata": {},
   "outputs": [],
   "source": [
    "# 送入神經網路前的輸入處理\n",
    "from keras.preprocessing import sequence\n",
    "\n",
    "# 設定輸入文字長度上限100\n",
    "# 把文字弄成一樣長，太短捕0\n",
    "x_train = sequence.pad_sequences(x_train, maxlen=100)\n",
    "x_test = sequence.pad_sequences(x_test, maxlen=100)"
   ]
  },
  {
   "cell_type": "code",
   "execution_count": 9,
   "metadata": {},
   "outputs": [],
   "source": [
    "# 用LSTM打造RNN\n",
    "from keras.models import Sequential\n",
    "from keras.layers import Dense, Embedding\n",
    "from keras.layers import LSTM\n",
    "\n",
    "model = Sequential()\n",
    "\n",
    "# 1.將1萬組文字壓成128維度\n",
    "model.add(Embedding(10000,128))\n",
    "\n",
    "# 2.最後使用150個LSTM(此與維度數量無關)\n",
    "model.add(LSTM(150))\n",
    "\n",
    "# 3.產出用sigmoid送出0~1之間的值\n",
    "model.add(Dense(1,activation='sigmoid'))\n"
   ]
  },
  {
   "cell_type": "code",
   "execution_count": 10,
   "metadata": {},
   "outputs": [
    {
     "name": "stdout",
     "output_type": "stream",
     "text": [
      "Model: \"sequential\"\n",
      "_________________________________________________________________\n",
      "Layer (type)                 Output Shape              Param #   \n",
      "=================================================================\n",
      "embedding (Embedding)        (None, None, 128)         1280000   \n",
      "_________________________________________________________________\n",
      "lstm (LSTM)                  (None, 150)               167400    \n",
      "_________________________________________________________________\n",
      "dense (Dense)                (None, 1)                 151       \n",
      "=================================================================\n",
      "Total params: 1,447,551\n",
      "Trainable params: 1,447,551\n",
      "Non-trainable params: 0\n",
      "_________________________________________________________________\n"
     ]
    }
   ],
   "source": [
    "# 檢視summary\n",
    "model.summary()"
   ]
  },
  {
   "cell_type": "code",
   "execution_count": 13,
   "metadata": {},
   "outputs": [],
   "source": [
    "# 組裝並用adam學習法\n",
    "model.compile(loss = 'binary_crossentropy',\n",
    "             optimizer = 'adam',\n",
    "             metrics = ['accuracy'])"
   ]
  },
  {
   "cell_type": "code",
   "execution_count": 14,
   "metadata": {},
   "outputs": [
    {
     "name": "stdout",
     "output_type": "stream",
     "text": [
      "Epoch 1/15\n",
      "782/782 [==============================] - 93s 119ms/step - loss: 0.4314 - accuracy: 0.7977\n",
      "Epoch 2/15\n",
      "782/782 [==============================] - 97s 125ms/step - loss: 0.2665 - accuracy: 0.8935\n",
      "Epoch 3/15\n",
      "782/782 [==============================] - 101s 129ms/step - loss: 0.1881 - accuracy: 0.9283\n",
      "Epoch 4/15\n",
      "782/782 [==============================] - 109s 140ms/step - loss: 0.1401 - accuracy: 0.9494\n",
      "Epoch 5/15\n",
      "782/782 [==============================] - 113s 144ms/step - loss: 0.0960 - accuracy: 0.9664\n",
      "Epoch 6/15\n",
      "782/782 [==============================] - 115s 148ms/step - loss: 0.0675 - accuracy: 0.9783\n",
      "Epoch 7/15\n",
      "782/782 [==============================] - 111s 142ms/step - loss: 0.0579 - accuracy: 0.9806\n",
      "Epoch 8/15\n",
      "782/782 [==============================] - 91s 117ms/step - loss: 0.0328 - accuracy: 0.9898\n",
      "Epoch 9/15\n",
      "782/782 [==============================] - 91s 117ms/step - loss: 0.0343 - accuracy: 0.9889\n",
      "Epoch 10/15\n",
      "782/782 [==============================] - 95s 121ms/step - loss: 0.0226 - accuracy: 0.9926\n",
      "Epoch 11/15\n",
      "782/782 [==============================] - 97s 124ms/step - loss: 0.0270 - accuracy: 0.9913\n",
      "Epoch 12/15\n",
      "782/782 [==============================] - 93s 119ms/step - loss: 0.0272 - accuracy: 0.9912\n",
      "Epoch 13/15\n",
      "782/782 [==============================] - 94s 120ms/step - loss: 0.0172 - accuracy: 0.9953\n",
      "Epoch 14/15\n",
      "782/782 [==============================] - 94s 120ms/step - loss: 0.0104 - accuracy: 0.9968\n",
      "Epoch 15/15\n",
      "782/782 [==============================] - 94s 120ms/step - loss: 0.0100 - accuracy: 0.9973\n"
     ]
    },
    {
     "data": {
      "text/plain": [
       "<tensorflow.python.keras.callbacks.History at 0x7f96bb5ae590>"
      ]
     },
     "execution_count": 14,
     "metadata": {},
     "output_type": "execute_result"
    }
   ],
   "source": [
    "# 訓練模型\n",
    "model.fit(x_train, y_train, batch_size=32, epochs=15)"
   ]
  },
  {
   "cell_type": "code",
   "execution_count": 15,
   "metadata": {},
   "outputs": [
    {
     "name": "stdout",
     "output_type": "stream",
     "text": [
      "782/782 [==============================] - 26s 33ms/step - loss: 0.8739 - accuracy: 0.8279\n",
      "loss: 0.8738836646080017\n",
      "score: 0.8278800249099731\n"
     ]
    }
   ],
   "source": [
    "# 檢視訓練成果\n",
    "# loss和分數\n",
    "score = model.evaluate(x_test, y_test)\n",
    "print('loss:',score[0])\n",
    "print('score:',score[1])"
   ]
  },
  {
   "cell_type": "markdown",
   "metadata": {},
   "source": [
    "準確率達82%，可以使用"
   ]
  },
  {
   "cell_type": "code",
   "execution_count": 16,
   "metadata": {},
   "outputs": [],
   "source": [
    "# 儲存model\n",
    "model.json = model.to_json()\n",
    "open('imdb_rnn_model.json','w').write(model.json)\n",
    "\n",
    "# 儲存權重\n",
    "model.save_weights('imdb_model_weights.h5')"
   ]
  },
  {
   "cell_type": "code",
   "execution_count": 17,
   "metadata": {},
   "outputs": [],
   "source": [
    "# 另一種儲存方式\n",
    "model.save('imdb_rnn_model.h5')"
   ]
  },
  {
   "cell_type": "code",
   "execution_count": null,
   "metadata": {},
   "outputs": [],
   "source": []
  }
 ],
 "metadata": {
  "kernelspec": {
   "display_name": "Python 3",
   "language": "python",
   "name": "python3"
  },
  "language_info": {
   "codemirror_mode": {
    "name": "ipython",
    "version": 3
   },
   "file_extension": ".py",
   "mimetype": "text/x-python",
   "name": "python",
   "nbconvert_exporter": "python",
   "pygments_lexer": "ipython3",
   "version": "3.7.6"
  }
 },
 "nbformat": 4,
 "nbformat_minor": 4
}
